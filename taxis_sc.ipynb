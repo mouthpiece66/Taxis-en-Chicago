{
 "cells": [
  {
   "cell_type": "markdown",
   "metadata": {},
   "source": [
    "# Paso 1."
   ]
  },
  {
   "cell_type": "markdown",
   "metadata": {},
   "source": [
    "## Análisis exploratorio de datos"
   ]
  },
  {
   "cell_type": "code",
   "execution_count": 1,
   "metadata": {},
   "outputs": [],
   "source": [
    "# Cargar las librerías necesarias.\n",
    "\n",
    "import pandas as pd\n",
    "import numpy as np\n",
    "from matplotlib import pyplot as plt\n",
    "import seaborn as sns\n",
    "import scipy.stats as st"
   ]
  },
  {
   "cell_type": "code",
   "execution_count": 2,
   "metadata": {},
   "outputs": [
    {
     "name": "stdout",
     "output_type": "stream",
     "text": [
      "                       company_name  trips_amount\n",
      "0                         Flash Cab         19558\n",
      "1         Taxi Affiliation Services         11422\n",
      "2                 Medallion Leasing         10367\n",
      "3                        Yellow Cab          9888\n",
      "4   Taxi Affiliation Service Yellow          9299\n",
      "..                              ...           ...\n",
      "59     4053 - 40193 Adwar H. Nikola             7\n",
      "60          2733 - 74600 Benny Jona             7\n",
      "61    5874 - 73628 Sergey Cab Corp.             5\n",
      "62       2241 - 44667 - Felman Corp             3\n",
      "63      3556 - 36214 RC Andrews Cab             2\n",
      "\n",
      "[64 rows x 2 columns] \n",
      "\n",
      "\n",
      "    dropoff_location_name  average_trips\n",
      "0                   Loop   10727.466667\n",
      "1            River North    9523.666667\n",
      "2          Streeterville    6664.666667\n",
      "3              West Loop    5163.666667\n",
      "4                 O'Hare    2546.900000\n",
      "..                   ...            ...\n",
      "89       Mount Greenwood       3.137931\n",
      "90             Hegewisch       3.117647\n",
      "91              Burnside       2.333333\n",
      "92             East Side       1.961538\n",
      "93             Riverdale       1.800000\n",
      "\n",
      "[94 rows x 2 columns]\n"
     ]
    }
   ],
   "source": [
    "# Leer y corregir los archivos en caso de ser necesario.\n",
    "taxi_data = pd.read_csv('/datasets/project_sql_result_01.csv')\n",
    "dropoff_data = pd.read_csv('/datasets/project_sql_result_04.csv')\n",
    "\n",
    "print(taxi_data, '\\n\\n\\n', dropoff_data)"
   ]
  },
  {
   "cell_type": "code",
   "execution_count": 3,
   "metadata": {},
   "outputs": [
    {
     "name": "stdout",
     "output_type": "stream",
     "text": [
      "<class 'pandas.core.frame.DataFrame'>\n",
      "RangeIndex: 64 entries, 0 to 63\n",
      "Data columns (total 2 columns):\n",
      " #   Column        Non-Null Count  Dtype \n",
      "---  ------        --------------  ----- \n",
      " 0   company_name  64 non-null     object\n",
      " 1   trips_amount  64 non-null     int64 \n",
      "dtypes: int64(1), object(1)\n",
      "memory usage: 1.1+ KB\n"
     ]
    }
   ],
   "source": [
    "taxi_data.info()"
   ]
  },
  {
   "cell_type": "code",
   "execution_count": 4,
   "metadata": {},
   "outputs": [
    {
     "name": "stdout",
     "output_type": "stream",
     "text": [
      "<class 'pandas.core.frame.DataFrame'>\n",
      "RangeIndex: 94 entries, 0 to 93\n",
      "Data columns (total 2 columns):\n",
      " #   Column                 Non-Null Count  Dtype  \n",
      "---  ------                 --------------  -----  \n",
      " 0   dropoff_location_name  94 non-null     object \n",
      " 1   average_trips          94 non-null     float64\n",
      "dtypes: float64(1), object(1)\n",
      "memory usage: 1.6+ KB\n"
     ]
    }
   ],
   "source": [
    "dropoff_data.info()"
   ]
  },
  {
   "cell_type": "code",
   "execution_count": 5,
   "metadata": {},
   "outputs": [
    {
     "data": {
      "text/html": [
       "<div>\n",
       "<style scoped>\n",
       "    .dataframe tbody tr th:only-of-type {\n",
       "        vertical-align: middle;\n",
       "    }\n",
       "\n",
       "    .dataframe tbody tr th {\n",
       "        vertical-align: top;\n",
       "    }\n",
       "\n",
       "    .dataframe thead th {\n",
       "        text-align: right;\n",
       "    }\n",
       "</style>\n",
       "<table border=\"1\" class=\"dataframe\">\n",
       "  <thead>\n",
       "    <tr style=\"text-align: right;\">\n",
       "      <th></th>\n",
       "      <th>dropoff_location_name</th>\n",
       "      <th>average_trips</th>\n",
       "    </tr>\n",
       "  </thead>\n",
       "  <tbody>\n",
       "    <tr>\n",
       "      <th>0</th>\n",
       "      <td>Loop</td>\n",
       "      <td>10727.466667</td>\n",
       "    </tr>\n",
       "    <tr>\n",
       "      <th>1</th>\n",
       "      <td>River North</td>\n",
       "      <td>9523.666667</td>\n",
       "    </tr>\n",
       "    <tr>\n",
       "      <th>2</th>\n",
       "      <td>Streeterville</td>\n",
       "      <td>6664.666667</td>\n",
       "    </tr>\n",
       "    <tr>\n",
       "      <th>3</th>\n",
       "      <td>West Loop</td>\n",
       "      <td>5163.666667</td>\n",
       "    </tr>\n",
       "    <tr>\n",
       "      <th>4</th>\n",
       "      <td>O'Hare</td>\n",
       "      <td>2546.900000</td>\n",
       "    </tr>\n",
       "    <tr>\n",
       "      <th>5</th>\n",
       "      <td>Lake View</td>\n",
       "      <td>2420.966667</td>\n",
       "    </tr>\n",
       "    <tr>\n",
       "      <th>6</th>\n",
       "      <td>Grant Park</td>\n",
       "      <td>2068.533333</td>\n",
       "    </tr>\n",
       "    <tr>\n",
       "      <th>7</th>\n",
       "      <td>Museum Campus</td>\n",
       "      <td>1510.000000</td>\n",
       "    </tr>\n",
       "    <tr>\n",
       "      <th>8</th>\n",
       "      <td>Gold Coast</td>\n",
       "      <td>1364.233333</td>\n",
       "    </tr>\n",
       "    <tr>\n",
       "      <th>9</th>\n",
       "      <td>Sheffield &amp; DePaul</td>\n",
       "      <td>1259.766667</td>\n",
       "    </tr>\n",
       "  </tbody>\n",
       "</table>\n",
       "</div>"
      ],
      "text/plain": [
       "  dropoff_location_name  average_trips\n",
       "0                  Loop   10727.466667\n",
       "1           River North    9523.666667\n",
       "2         Streeterville    6664.666667\n",
       "3             West Loop    5163.666667\n",
       "4                O'Hare    2546.900000\n",
       "5             Lake View    2420.966667\n",
       "6            Grant Park    2068.533333\n",
       "7         Museum Campus    1510.000000\n",
       "8            Gold Coast    1364.233333\n",
       "9    Sheffield & DePaul    1259.766667"
      ]
     },
     "execution_count": 5,
     "metadata": {},
     "output_type": "execute_result"
    }
   ],
   "source": [
    "# Identificamos los 10 principales barrios en términos de promedio de finalización de viajes\n",
    "\n",
    "top_10_neighborhoods = dropoff_data.sort_values(by = 'average_trips', ascending = False).head(10)\n",
    "\n",
    "top_10_neighborhoods\n"
   ]
  },
  {
   "cell_type": "code",
   "execution_count": 6,
   "metadata": {},
   "outputs": [
    {
     "data": {
      "image/png": "[encoded data removed]",
      "text/plain": [
       "<Figure size 1000x500 with 1 Axes>"
      ]
     },
     "metadata": {},
     "output_type": "display_data"
    }
   ],
   "source": [
    "# Gráfico de los 10 principales barrios por número de finalizaciones\n",
    "\n",
    "plt.figure(figsize=(10, 5))\n",
    "plt.barh(top_10_neighborhoods['dropoff_location_name'], top_10_neighborhoods['average_trips'], color='salmon')\n",
    "plt.title('Top 10 Barrios por Promedio de Finalización de Viajes')\n",
    "plt.xlabel('Promedio de Viajes')\n",
    "plt.ylabel('Barrio')\n",
    "plt.gca().invert_yaxis()\n",
    "plt.tight_layout()\n",
    "plt.show()\n",
    "\n"
   ]
  },
  {
   "cell_type": "code",
   "execution_count": 7,
   "metadata": {},
   "outputs": [
    {
     "data": {
      "text/html": [
       "<div>\n",
       "<style scoped>\n",
       "    .dataframe tbody tr th:only-of-type {\n",
       "        vertical-align: middle;\n",
       "    }\n",
       "\n",
       "    .dataframe tbody tr th {\n",
       "        vertical-align: top;\n",
       "    }\n",
       "\n",
       "    .dataframe thead th {\n",
       "        text-align: right;\n",
       "    }\n",
       "</style>\n",
       "<table border=\"1\" class=\"dataframe\">\n",
       "  <thead>\n",
       "    <tr style=\"text-align: right;\">\n",
       "      <th></th>\n",
       "      <th>company_name</th>\n",
       "      <th>trips_amount</th>\n",
       "    </tr>\n",
       "  </thead>\n",
       "  <tbody>\n",
       "    <tr>\n",
       "      <th>0</th>\n",
       "      <td>Flash Cab</td>\n",
       "      <td>19558</td>\n",
       "    </tr>\n",
       "    <tr>\n",
       "      <th>1</th>\n",
       "      <td>Taxi Affiliation Services</td>\n",
       "      <td>11422</td>\n",
       "    </tr>\n",
       "    <tr>\n",
       "      <th>2</th>\n",
       "      <td>Medallion Leasing</td>\n",
       "      <td>10367</td>\n",
       "    </tr>\n",
       "    <tr>\n",
       "      <th>3</th>\n",
       "      <td>Yellow Cab</td>\n",
       "      <td>9888</td>\n",
       "    </tr>\n",
       "    <tr>\n",
       "      <th>4</th>\n",
       "      <td>Taxi Affiliation Service Yellow</td>\n",
       "      <td>9299</td>\n",
       "    </tr>\n",
       "    <tr>\n",
       "      <th>5</th>\n",
       "      <td>Chicago Carriage Cab Corp</td>\n",
       "      <td>9181</td>\n",
       "    </tr>\n",
       "    <tr>\n",
       "      <th>6</th>\n",
       "      <td>City Service</td>\n",
       "      <td>8448</td>\n",
       "    </tr>\n",
       "    <tr>\n",
       "      <th>7</th>\n",
       "      <td>Sun Taxi</td>\n",
       "      <td>7701</td>\n",
       "    </tr>\n",
       "    <tr>\n",
       "      <th>8</th>\n",
       "      <td>Star North Management LLC</td>\n",
       "      <td>7455</td>\n",
       "    </tr>\n",
       "    <tr>\n",
       "      <th>9</th>\n",
       "      <td>Blue Ribbon Taxi Association Inc.</td>\n",
       "      <td>5953</td>\n",
       "    </tr>\n",
       "  </tbody>\n",
       "</table>\n",
       "</div>"
      ],
      "text/plain": [
       "                        company_name  trips_amount\n",
       "0                          Flash Cab         19558\n",
       "1          Taxi Affiliation Services         11422\n",
       "2                  Medallion Leasing         10367\n",
       "3                         Yellow Cab          9888\n",
       "4    Taxi Affiliation Service Yellow          9299\n",
       "5          Chicago Carriage Cab Corp          9181\n",
       "6                       City Service          8448\n",
       "7                           Sun Taxi          7701\n",
       "8          Star North Management LLC          7455\n",
       "9  Blue Ribbon Taxi Association Inc.          5953"
      ]
     },
     "execution_count": 7,
     "metadata": {},
     "output_type": "execute_result"
    }
   ],
   "source": [
    "# Identificamos las 10 principales compañias de taxis por numero de viajes\n",
    "\n",
    "top_10_taxi_company = taxi_data.sort_values(by = 'trips_amount', ascending = False).head(10)\n",
    "\n",
    "top_10_taxi_company"
   ]
  },
  {
   "cell_type": "code",
   "execution_count": 8,
   "metadata": {},
   "outputs": [
    {
     "data": {
      "image/png": "[encoded data removed]",
      "text/plain": [
       "<Figure size 1000x500 with 1 Axes>"
      ]
     },
     "metadata": {},
     "output_type": "display_data"
    }
   ],
   "source": [
    "# Gráfico de empresas de taxis y número de viajes\n",
    "\n",
    "plt.figure(figsize = (10, 5))\n",
    "plt.barh(top_10_taxi_company['company_name'], top_10_taxi_company['trips_amount'])\n",
    "plt.title('Número de viajes por empresa de taxis')\n",
    "plt.xlabel('Cantidad de Viajes')\n",
    "plt.ylabel('Empresa de Taxis')\n",
    "plt.gca().invert_yaxis()\n",
    "plt.tight_layout()\n",
    "plt.show()"
   ]
  },
  {
   "cell_type": "markdown",
   "metadata": {},
   "source": [
    "**Conclusiones:**\n",
    "\n",
    " - Como se puede observar en el gráfico 'Número de viajes por empresa de taxi'Para las empresas de taxis: La diferencia en el número de viajes puede indicar variabilidad en la demanda de servicios, posiblemente relacionada con la popularidad o cobertura de las empresas.\n",
    " \n",
    " - Por otra parte, como se observa en el gráfico 'Top 10 Barrios por Promedio de Finalización de Viajes', lLos barrios con mayor número de finalizaciones podrían ser buenos candidatos para la expansión de servicios o promociones debido a la alta demanda. Además, estos datos pueden guiar estrategias de asignación de recursos para optimizar el servicio."
   ]
  },
  {
   "cell_type": "markdown",
   "metadata": {},
   "source": [
    "# Paso 2."
   ]
  },
  {
   "cell_type": "markdown",
   "metadata": {},
   "source": [
    "## Prueba de hipótesis"
   ]
  },
  {
   "cell_type": "code",
   "execution_count": 9,
   "metadata": {},
   "outputs": [
    {
     "data": {
      "text/html": [
       "<div>\n",
       "<style scoped>\n",
       "    .dataframe tbody tr th:only-of-type {\n",
       "        vertical-align: middle;\n",
       "    }\n",
       "\n",
       "    .dataframe tbody tr th {\n",
       "        vertical-align: top;\n",
       "    }\n",
       "\n",
       "    .dataframe thead th {\n",
       "        text-align: right;\n",
       "    }\n",
       "</style>\n",
       "<table border=\"1\" class=\"dataframe\">\n",
       "  <thead>\n",
       "    <tr style=\"text-align: right;\">\n",
       "      <th></th>\n",
       "      <th>start_ts</th>\n",
       "      <th>weather_conditions</th>\n",
       "      <th>duration_seconds</th>\n",
       "    </tr>\n",
       "  </thead>\n",
       "  <tbody>\n",
       "    <tr>\n",
       "      <th>0</th>\n",
       "      <td>2017-11-25 16:00:00</td>\n",
       "      <td>Good</td>\n",
       "      <td>2410.0</td>\n",
       "    </tr>\n",
       "    <tr>\n",
       "      <th>1</th>\n",
       "      <td>2017-11-25 14:00:00</td>\n",
       "      <td>Good</td>\n",
       "      <td>1920.0</td>\n",
       "    </tr>\n",
       "    <tr>\n",
       "      <th>2</th>\n",
       "      <td>2017-11-25 12:00:00</td>\n",
       "      <td>Good</td>\n",
       "      <td>1543.0</td>\n",
       "    </tr>\n",
       "    <tr>\n",
       "      <th>3</th>\n",
       "      <td>2017-11-04 10:00:00</td>\n",
       "      <td>Good</td>\n",
       "      <td>2512.0</td>\n",
       "    </tr>\n",
       "    <tr>\n",
       "      <th>4</th>\n",
       "      <td>2017-11-11 07:00:00</td>\n",
       "      <td>Good</td>\n",
       "      <td>1440.0</td>\n",
       "    </tr>\n",
       "    <tr>\n",
       "      <th>...</th>\n",
       "      <td>...</td>\n",
       "      <td>...</td>\n",
       "      <td>...</td>\n",
       "    </tr>\n",
       "    <tr>\n",
       "      <th>1063</th>\n",
       "      <td>2017-11-25 11:00:00</td>\n",
       "      <td>Good</td>\n",
       "      <td>0.0</td>\n",
       "    </tr>\n",
       "    <tr>\n",
       "      <th>1064</th>\n",
       "      <td>2017-11-11 10:00:00</td>\n",
       "      <td>Good</td>\n",
       "      <td>1318.0</td>\n",
       "    </tr>\n",
       "    <tr>\n",
       "      <th>1065</th>\n",
       "      <td>2017-11-11 13:00:00</td>\n",
       "      <td>Good</td>\n",
       "      <td>2100.0</td>\n",
       "    </tr>\n",
       "    <tr>\n",
       "      <th>1066</th>\n",
       "      <td>2017-11-11 08:00:00</td>\n",
       "      <td>Good</td>\n",
       "      <td>1380.0</td>\n",
       "    </tr>\n",
       "    <tr>\n",
       "      <th>1067</th>\n",
       "      <td>2017-11-04 16:00:00</td>\n",
       "      <td>Bad</td>\n",
       "      <td>2834.0</td>\n",
       "    </tr>\n",
       "  </tbody>\n",
       "</table>\n",
       "<p>1068 rows × 3 columns</p>\n",
       "</div>"
      ],
      "text/plain": [
       "                 start_ts weather_conditions  duration_seconds\n",
       "0     2017-11-25 16:00:00               Good            2410.0\n",
       "1     2017-11-25 14:00:00               Good            1920.0\n",
       "2     2017-11-25 12:00:00               Good            1543.0\n",
       "3     2017-11-04 10:00:00               Good            2512.0\n",
       "4     2017-11-11 07:00:00               Good            1440.0\n",
       "...                   ...                ...               ...\n",
       "1063  2017-11-25 11:00:00               Good               0.0\n",
       "1064  2017-11-11 10:00:00               Good            1318.0\n",
       "1065  2017-11-11 13:00:00               Good            2100.0\n",
       "1066  2017-11-11 08:00:00               Good            1380.0\n",
       "1067  2017-11-04 16:00:00                Bad            2834.0\n",
       "\n",
       "[1068 rows x 3 columns]"
      ]
     },
     "execution_count": 9,
     "metadata": {},
     "output_type": "execute_result"
    }
   ],
   "source": [
    "# Leer y corregir los archivos en caso de ser necesario.\n",
    "trips_data = pd.read_csv('/datasets/project_sql_result_07.csv')\n",
    "\n",
    "trips_data"
   ]
  },
  {
   "cell_type": "code",
   "execution_count": 10,
   "metadata": {},
   "outputs": [
    {
     "name": "stdout",
     "output_type": "stream",
     "text": [
      "<class 'pandas.core.frame.DataFrame'>\n",
      "RangeIndex: 1068 entries, 0 to 1067\n",
      "Data columns (total 3 columns):\n",
      " #   Column              Non-Null Count  Dtype  \n",
      "---  ------              --------------  -----  \n",
      " 0   start_ts            1068 non-null   object \n",
      " 1   weather_conditions  1068 non-null   object \n",
      " 2   duration_seconds    1068 non-null   float64\n",
      "dtypes: float64(1), object(2)\n",
      "memory usage: 25.2+ KB\n"
     ]
    }
   ],
   "source": [
    "trips_data.info()"
   ]
  },
  {
   "cell_type": "code",
   "execution_count": 11,
   "metadata": {},
   "outputs": [
    {
     "data": {
      "text/html": [
       "<div>\n",
       "<style scoped>\n",
       "    .dataframe tbody tr th:only-of-type {\n",
       "        vertical-align: middle;\n",
       "    }\n",
       "\n",
       "    .dataframe tbody tr th {\n",
       "        vertical-align: top;\n",
       "    }\n",
       "\n",
       "    .dataframe thead th {\n",
       "        text-align: right;\n",
       "    }\n",
       "</style>\n",
       "<table border=\"1\" class=\"dataframe\">\n",
       "  <thead>\n",
       "    <tr style=\"text-align: right;\">\n",
       "      <th></th>\n",
       "      <th>start_ts</th>\n",
       "      <th>weather_conditions</th>\n",
       "      <th>duration_seconds</th>\n",
       "      <th>day_of_week</th>\n",
       "    </tr>\n",
       "  </thead>\n",
       "  <tbody>\n",
       "    <tr>\n",
       "      <th>0</th>\n",
       "      <td>2017-11-25 16:00:00</td>\n",
       "      <td>Good</td>\n",
       "      <td>2410.0</td>\n",
       "      <td>Saturday</td>\n",
       "    </tr>\n",
       "    <tr>\n",
       "      <th>1</th>\n",
       "      <td>2017-11-25 14:00:00</td>\n",
       "      <td>Good</td>\n",
       "      <td>1920.0</td>\n",
       "      <td>Saturday</td>\n",
       "    </tr>\n",
       "    <tr>\n",
       "      <th>2</th>\n",
       "      <td>2017-11-25 12:00:00</td>\n",
       "      <td>Good</td>\n",
       "      <td>1543.0</td>\n",
       "      <td>Saturday</td>\n",
       "    </tr>\n",
       "    <tr>\n",
       "      <th>3</th>\n",
       "      <td>2017-11-04 10:00:00</td>\n",
       "      <td>Good</td>\n",
       "      <td>2512.0</td>\n",
       "      <td>Saturday</td>\n",
       "    </tr>\n",
       "    <tr>\n",
       "      <th>4</th>\n",
       "      <td>2017-11-11 07:00:00</td>\n",
       "      <td>Good</td>\n",
       "      <td>1440.0</td>\n",
       "      <td>Saturday</td>\n",
       "    </tr>\n",
       "    <tr>\n",
       "      <th>...</th>\n",
       "      <td>...</td>\n",
       "      <td>...</td>\n",
       "      <td>...</td>\n",
       "      <td>...</td>\n",
       "    </tr>\n",
       "    <tr>\n",
       "      <th>1063</th>\n",
       "      <td>2017-11-25 11:00:00</td>\n",
       "      <td>Good</td>\n",
       "      <td>0.0</td>\n",
       "      <td>Saturday</td>\n",
       "    </tr>\n",
       "    <tr>\n",
       "      <th>1064</th>\n",
       "      <td>2017-11-11 10:00:00</td>\n",
       "      <td>Good</td>\n",
       "      <td>1318.0</td>\n",
       "      <td>Saturday</td>\n",
       "    </tr>\n",
       "    <tr>\n",
       "      <th>1065</th>\n",
       "      <td>2017-11-11 13:00:00</td>\n",
       "      <td>Good</td>\n",
       "      <td>2100.0</td>\n",
       "      <td>Saturday</td>\n",
       "    </tr>\n",
       "    <tr>\n",
       "      <th>1066</th>\n",
       "      <td>2017-11-11 08:00:00</td>\n",
       "      <td>Good</td>\n",
       "      <td>1380.0</td>\n",
       "      <td>Saturday</td>\n",
       "    </tr>\n",
       "    <tr>\n",
       "      <th>1067</th>\n",
       "      <td>2017-11-04 16:00:00</td>\n",
       "      <td>Bad</td>\n",
       "      <td>2834.0</td>\n",
       "      <td>Saturday</td>\n",
       "    </tr>\n",
       "  </tbody>\n",
       "</table>\n",
       "<p>1068 rows × 4 columns</p>\n",
       "</div>"
      ],
      "text/plain": [
       "                start_ts weather_conditions  duration_seconds day_of_week\n",
       "0    2017-11-25 16:00:00               Good            2410.0    Saturday\n",
       "1    2017-11-25 14:00:00               Good            1920.0    Saturday\n",
       "2    2017-11-25 12:00:00               Good            1543.0    Saturday\n",
       "3    2017-11-04 10:00:00               Good            2512.0    Saturday\n",
       "4    2017-11-11 07:00:00               Good            1440.0    Saturday\n",
       "...                  ...                ...               ...         ...\n",
       "1063 2017-11-25 11:00:00               Good               0.0    Saturday\n",
       "1064 2017-11-11 10:00:00               Good            1318.0    Saturday\n",
       "1065 2017-11-11 13:00:00               Good            2100.0    Saturday\n",
       "1066 2017-11-11 08:00:00               Good            1380.0    Saturday\n",
       "1067 2017-11-04 16:00:00                Bad            2834.0    Saturday\n",
       "\n",
       "[1068 rows x 4 columns]"
      ]
     },
     "execution_count": 11,
     "metadata": {},
     "output_type": "execute_result"
    }
   ],
   "source": [
    "# Convertir 'start_ts' a formato de fecha\n",
    "trips_data['start_ts'] = pd.to_datetime(trips_data['start_ts'], errors='coerce')\n",
    "\n",
    "# Obtener los días de la semana \n",
    "trips_data['day_of_week'] = trips_data['start_ts'].dt.day_name()\n",
    "\n",
    "trips_data"
   ]
  },
  {
   "cell_type": "code",
   "execution_count": 12,
   "metadata": {},
   "outputs": [],
   "source": [
    "# Filtramos los datos para los sábados lluviosos y los sábados despejados\n",
    "rainy_saturdays = trips_data[trips_data['weather_conditions'] == \"Bad\"] \n",
    "clear_saturdays = trips_data[trips_data['weather_conditions'] == \"Good\"]\n",
    "\n",
    "# Extraemos las duraciones de los dos grupos\n",
    "durations_rainy = rainy_saturdays['duration_seconds']\n",
    "durations_clear = clear_saturdays['duration_seconds']"
   ]
  },
  {
   "cell_type": "code",
   "execution_count": 13,
   "metadata": {},
   "outputs": [
    {
     "name": "stdout",
     "output_type": "stream",
     "text": [
      "Prueba de Levene para homogeneidad de varianzas: p-value = 0.5332\n",
      "Prueba t de Student entre sábados lluviosos y despejados: p-value = 0.0000\n"
     ]
    }
   ],
   "source": [
    "# Comprobamos homogeneidad de varianza con la prueba de Levene\n",
    "levene_test = st.levene(durations_rainy, durations_clear)\n",
    "print(f\"Prueba de Levene para homogeneidad de varianzas: p-value = {levene_test.pvalue:.4f}\")\n",
    "    \n",
    "if levene_test.pvalue > 0.05:\n",
    "    # Prueba t de Student para muestras independientes\n",
    "    t_stat, p_value = st.ttest_ind(durations_rainy, durations_clear)\n",
    "    print(f\"Prueba t de Student entre sábados lluviosos y despejados: p-value = {p_value:.4f}\")\n",
    "else:\n",
    "    # Prueba t de Welch si no hay homogeneidad de varianza\n",
    "    t_stat, p_value = st.ttest_ind(durations_rainy, durations_clear, equal_var=False)\n",
    "    print(f\"Prueba t de Welch entre sábados lluviosos y despejados: p-value = {p_value:.4f}\")"
   ]
  },
  {
   "cell_type": "code",
   "execution_count": 14,
   "metadata": {},
   "outputs": [
    {
     "name": "stdout",
     "output_type": "stream",
     "text": [
      "Estadístico t: 6.946177714041499\n",
      "Valor p: 6.517970327099473e-12\n",
      "Rechazamos la hipótesis nula.\n"
     ]
    }
   ],
   "source": [
    "# Establecer el nivel de significancia comúnmente utilizado\n",
    "alpha = 0.05\n",
    "\n",
    "# Realizamos la prueba t de muestras independientes\n",
    "t_stat, p_value = st.ttest_ind(durations_rainy, durations_clear, equal_var = True)\n",
    "\n",
    "# Resultados de la prueba\n",
    "print(f\"Estadístico t: {t_stat}\")\n",
    "print(f\"Valor p: {p_value}\")\n",
    "\n",
    "# Realizar la prueba t de dos muestras\n",
    "results = st.ttest_ind(durations_rainy, durations_clear, equal_var = False)\n",
    "\n",
    "# Comarar el valor p con el umbral\n",
    "if(results.pvalue < alpha):\n",
    "    print('Rechazamos la hipótesis nula.')\n",
    "else:\n",
    "    print('No rechazamos la hipótesis nula.')"
   ]
  },
  {
   "cell_type": "markdown",
   "metadata": {},
   "source": [
    "**Conclusión:**\n",
    "    \n",
    "    Según los resultados obtenidos mediante la prueba de hipótesis, después de validar las varianzas mediante el método Levene, ya que se rechaza la hipótesis nula, significa que existe una diferencia significativa en la duración de los viajes cuando hay un clima lluvioso de cuando el clima es bueno."
   ]
  }
 ],
 "metadata": {
  "ExecuteTimeLog": [
   {
    "duration": 2536,
    "start_time": "2024-11-04T16:04:55.220Z"
   },
   {
    "duration": 580,
    "start_time": "2024-11-04T16:30:30.387Z"
   },
   {
    "duration": 10,
    "start_time": "2024-11-04T16:31:00.636Z"
   },
   {
    "duration": 10,
    "start_time": "2024-11-04T16:34:18.937Z"
   },
   {
    "duration": 12,
    "start_time": "2024-11-04T16:34:32.073Z"
   },
   {
    "duration": 159,
    "start_time": "2024-11-05T01:54:59.498Z"
   },
   {
    "duration": 2538,
    "start_time": "2024-11-05T01:55:04.432Z"
   },
   {
    "duration": 23,
    "start_time": "2024-11-05T01:55:06.972Z"
   },
   {
    "duration": 13,
    "start_time": "2024-11-05T01:55:52.709Z"
   },
   {
    "duration": 14,
    "start_time": "2024-11-05T02:08:39.080Z"
   },
   {
    "duration": 9,
    "start_time": "2024-11-05T02:09:14.252Z"
   },
   {
    "duration": 74,
    "start_time": "2024-11-05T02:09:47.530Z"
   },
   {
    "duration": 14,
    "start_time": "2024-11-05T02:10:06.388Z"
   },
   {
    "duration": 9,
    "start_time": "2024-11-05T02:10:15.706Z"
   },
   {
    "duration": 2600,
    "start_time": "2024-11-05T03:09:03.554Z"
   },
   {
    "duration": 21,
    "start_time": "2024-11-05T03:09:06.156Z"
   },
   {
    "duration": 9,
    "start_time": "2024-11-05T03:09:06.178Z"
   },
   {
    "duration": 7,
    "start_time": "2024-11-05T03:09:06.189Z"
   },
   {
    "duration": 2517,
    "start_time": "2024-11-06T01:17:28.199Z"
   },
   {
    "duration": 20,
    "start_time": "2024-11-06T01:17:30.718Z"
   },
   {
    "duration": 9,
    "start_time": "2024-11-06T01:17:30.740Z"
   },
   {
    "duration": 21,
    "start_time": "2024-11-06T01:17:30.751Z"
   },
   {
    "duration": 834,
    "start_time": "2024-11-06T01:20:22.527Z"
   },
   {
    "duration": 18,
    "start_time": "2024-11-06T01:20:23.363Z"
   },
   {
    "duration": 8,
    "start_time": "2024-11-06T01:20:23.382Z"
   },
   {
    "duration": 7,
    "start_time": "2024-11-06T01:20:23.392Z"
   },
   {
    "duration": 2,
    "start_time": "2024-11-06T01:20:23.401Z"
   },
   {
    "duration": 3,
    "start_time": "2024-11-06T01:20:46.074Z"
   },
   {
    "duration": 10,
    "start_time": "2024-11-06T01:21:18.519Z"
   },
   {
    "duration": 7,
    "start_time": "2024-11-06T01:21:33.920Z"
   },
   {
    "duration": 1194,
    "start_time": "2024-11-06T01:34:22.932Z"
   },
   {
    "duration": 785,
    "start_time": "2024-11-06T01:35:14.744Z"
   },
   {
    "duration": 920,
    "start_time": "2024-11-06T01:35:41.918Z"
   },
   {
    "duration": 1429,
    "start_time": "2024-11-06T01:35:56.241Z"
   },
   {
    "duration": 1423,
    "start_time": "2024-11-06T01:38:53.078Z"
   },
   {
    "duration": 8,
    "start_time": "2024-11-06T01:51:42.800Z"
   },
   {
    "duration": 7,
    "start_time": "2024-11-06T01:51:49.647Z"
   },
   {
    "duration": 242,
    "start_time": "2024-11-06T01:51:53.873Z"
   },
   {
    "duration": 217,
    "start_time": "2024-11-06T02:50:19.111Z"
   },
   {
    "duration": 191,
    "start_time": "2024-11-06T02:51:58.204Z"
   },
   {
    "duration": 215,
    "start_time": "2024-11-06T02:52:06.601Z"
   },
   {
    "duration": 6,
    "start_time": "2024-11-06T03:28:54.128Z"
   },
   {
    "duration": 266,
    "start_time": "2024-11-06T03:29:26.564Z"
   },
   {
    "duration": 266,
    "start_time": "2024-11-06T03:29:45.439Z"
   },
   {
    "duration": 273,
    "start_time": "2024-11-06T03:30:16.049Z"
   },
   {
    "duration": 246,
    "start_time": "2024-11-06T03:30:26.296Z"
   },
   {
    "duration": 162,
    "start_time": "2024-11-07T00:47:25.858Z"
   },
   {
    "duration": 2495,
    "start_time": "2024-11-07T00:47:43.961Z"
   },
   {
    "duration": 19,
    "start_time": "2024-11-07T00:47:46.458Z"
   },
   {
    "duration": 7,
    "start_time": "2024-11-07T00:47:46.479Z"
   },
   {
    "duration": 21,
    "start_time": "2024-11-07T00:47:46.488Z"
   },
   {
    "duration": 8,
    "start_time": "2024-11-07T00:47:46.512Z"
   },
   {
    "duration": 380,
    "start_time": "2024-11-07T00:47:46.521Z"
   },
   {
    "duration": 11,
    "start_time": "2024-11-07T00:47:46.902Z"
   },
   {
    "duration": 282,
    "start_time": "2024-11-07T00:47:46.915Z"
   },
   {
    "duration": 334,
    "start_time": "2024-11-07T00:48:02.255Z"
   },
   {
    "duration": 357,
    "start_time": "2024-11-07T00:50:02.229Z"
   },
   {
    "duration": 327,
    "start_time": "2024-11-07T00:50:44.532Z"
   },
   {
    "duration": 486,
    "start_time": "2024-11-07T00:51:49.174Z"
   },
   {
    "duration": 225,
    "start_time": "2024-11-07T00:52:43.543Z"
   },
   {
    "duration": 257,
    "start_time": "2024-11-07T00:53:18.402Z"
   },
   {
    "duration": 212,
    "start_time": "2024-11-07T01:18:33.466Z"
   },
   {
    "duration": 228,
    "start_time": "2024-11-07T01:19:13.250Z"
   },
   {
    "duration": 262,
    "start_time": "2024-11-07T01:22:25.994Z"
   },
   {
    "duration": 280,
    "start_time": "2024-11-07T01:23:00.988Z"
   },
   {
    "duration": 2523,
    "start_time": "2024-11-07T01:55:50.513Z"
   },
   {
    "duration": 20,
    "start_time": "2024-11-07T01:55:53.038Z"
   },
   {
    "duration": 8,
    "start_time": "2024-11-07T01:55:53.059Z"
   },
   {
    "duration": 8,
    "start_time": "2024-11-07T01:55:53.069Z"
   },
   {
    "duration": 8,
    "start_time": "2024-11-07T01:55:53.079Z"
   },
   {
    "duration": 323,
    "start_time": "2024-11-07T01:55:53.089Z"
   },
   {
    "duration": 8,
    "start_time": "2024-11-07T01:55:53.414Z"
   },
   {
    "duration": 282,
    "start_time": "2024-11-07T01:55:53.425Z"
   },
   {
    "duration": 282,
    "start_time": "2024-11-07T01:56:16.324Z"
   },
   {
    "duration": 2588,
    "start_time": "2024-11-07T03:20:33.525Z"
   },
   {
    "duration": 19,
    "start_time": "2024-11-07T03:20:36.115Z"
   },
   {
    "duration": 9,
    "start_time": "2024-11-07T03:20:36.135Z"
   },
   {
    "duration": 8,
    "start_time": "2024-11-07T03:20:36.146Z"
   },
   {
    "duration": 8,
    "start_time": "2024-11-07T03:20:36.156Z"
   },
   {
    "duration": 270,
    "start_time": "2024-11-07T03:20:36.186Z"
   },
   {
    "duration": 6,
    "start_time": "2024-11-07T03:20:36.458Z"
   },
   {
    "duration": 279,
    "start_time": "2024-11-07T03:20:36.466Z"
   },
   {
    "duration": 15,
    "start_time": "2024-11-07T03:37:19.263Z"
   },
   {
    "duration": 297,
    "start_time": "2024-11-07T03:39:44.008Z"
   },
   {
    "duration": 5,
    "start_time": "2024-11-07T03:39:57.412Z"
   },
   {
    "duration": 6,
    "start_time": "2024-11-07T03:42:35.768Z"
   },
   {
    "duration": 7,
    "start_time": "2024-11-07T03:47:00.800Z"
   },
   {
    "duration": 5,
    "start_time": "2024-11-07T03:48:11.163Z"
   },
   {
    "duration": 6,
    "start_time": "2024-11-07T03:50:44.725Z"
   },
   {
    "duration": 5,
    "start_time": "2024-11-07T03:50:52.007Z"
   },
   {
    "duration": 4,
    "start_time": "2024-11-07T03:50:54.722Z"
   },
   {
    "duration": 6,
    "start_time": "2024-11-07T03:54:20.377Z"
   },
   {
    "duration": 846,
    "start_time": "2024-11-07T16:19:15.719Z"
   },
   {
    "duration": 17,
    "start_time": "2024-11-07T16:19:16.567Z"
   },
   {
    "duration": 9,
    "start_time": "2024-11-07T16:19:16.585Z"
   },
   {
    "duration": 15,
    "start_time": "2024-11-07T16:19:16.595Z"
   },
   {
    "duration": 8,
    "start_time": "2024-11-07T16:19:16.612Z"
   },
   {
    "duration": 244,
    "start_time": "2024-11-07T16:19:16.621Z"
   },
   {
    "duration": 7,
    "start_time": "2024-11-07T16:19:16.868Z"
   },
   {
    "duration": 283,
    "start_time": "2024-11-07T16:19:16.876Z"
   },
   {
    "duration": 12,
    "start_time": "2024-11-07T16:19:17.161Z"
   },
   {
    "duration": 5,
    "start_time": "2024-11-07T16:19:17.175Z"
   },
   {
    "duration": 25,
    "start_time": "2024-11-07T16:19:17.181Z"
   },
   {
    "duration": 267,
    "start_time": "2024-11-07T16:19:17.207Z"
   },
   {
    "duration": 165,
    "start_time": "2024-11-08T04:32:47.847Z"
   },
   {
    "duration": 2517,
    "start_time": "2024-11-08T04:32:56.419Z"
   },
   {
    "duration": 18,
    "start_time": "2024-11-08T04:32:58.938Z"
   },
   {
    "duration": 8,
    "start_time": "2024-11-08T04:32:58.958Z"
   },
   {
    "duration": 9,
    "start_time": "2024-11-08T04:32:58.968Z"
   },
   {
    "duration": 8,
    "start_time": "2024-11-08T04:32:58.979Z"
   },
   {
    "duration": 267,
    "start_time": "2024-11-08T04:32:59.008Z"
   },
   {
    "duration": 8,
    "start_time": "2024-11-08T04:32:59.276Z"
   },
   {
    "duration": 281,
    "start_time": "2024-11-08T04:32:59.286Z"
   },
   {
    "duration": 13,
    "start_time": "2024-11-08T04:32:59.569Z"
   },
   {
    "duration": 5,
    "start_time": "2024-11-08T04:32:59.584Z"
   },
   {
    "duration": 21,
    "start_time": "2024-11-08T04:32:59.591Z"
   },
   {
    "duration": 5,
    "start_time": "2024-11-08T04:32:59.614Z"
   },
   {
    "duration": 826,
    "start_time": "2024-11-08T04:44:07.391Z"
   },
   {
    "duration": 9,
    "start_time": "2024-11-08T04:44:58.828Z"
   },
   {
    "duration": 6,
    "start_time": "2024-11-08T04:53:12.697Z"
   },
   {
    "duration": 6,
    "start_time": "2024-11-08T04:54:54.365Z"
   },
   {
    "duration": 9,
    "start_time": "2024-11-08T04:55:18.913Z"
   },
   {
    "duration": 16,
    "start_time": "2024-11-08T04:55:40.134Z"
   },
   {
    "duration": 14,
    "start_time": "2024-11-08T04:55:55.525Z"
   },
   {
    "duration": 6,
    "start_time": "2024-11-08T05:05:33.403Z"
   },
   {
    "duration": 577,
    "start_time": "2024-11-08T05:05:40.999Z"
   },
   {
    "duration": 108,
    "start_time": "2024-11-08T05:06:45.976Z"
   },
   {
    "duration": 15,
    "start_time": "2024-11-08T05:09:37.516Z"
   },
   {
    "duration": 13,
    "start_time": "2024-11-08T05:10:04.455Z"
   },
   {
    "duration": 16,
    "start_time": "2024-11-08T05:20:51.995Z"
   },
   {
    "duration": 15,
    "start_time": "2024-11-08T05:21:04.612Z"
   },
   {
    "duration": 10,
    "start_time": "2024-11-08T05:21:17.605Z"
   },
   {
    "duration": 8,
    "start_time": "2024-11-08T05:21:29.503Z"
   },
   {
    "duration": 17,
    "start_time": "2024-11-08T05:21:37.731Z"
   },
   {
    "duration": 8,
    "start_time": "2024-11-08T05:21:48.349Z"
   },
   {
    "duration": 8,
    "start_time": "2024-11-08T05:21:55.253Z"
   },
   {
    "duration": 13,
    "start_time": "2024-11-08T05:22:03.837Z"
   },
   {
    "duration": 8,
    "start_time": "2024-11-08T05:22:26.741Z"
   },
   {
    "duration": 4,
    "start_time": "2024-11-08T05:22:44.304Z"
   },
   {
    "duration": 197,
    "start_time": "2024-11-08T05:22:59.932Z"
   },
   {
    "duration": 72,
    "start_time": "2024-11-08T05:23:08.986Z"
   },
   {
    "duration": 4,
    "start_time": "2024-11-08T05:23:32.372Z"
   },
   {
    "duration": 5,
    "start_time": "2024-11-08T05:24:13.361Z"
   },
   {
    "duration": 2536,
    "start_time": "2024-11-08T18:12:26.393Z"
   },
   {
    "duration": 19,
    "start_time": "2024-11-08T18:12:28.932Z"
   },
   {
    "duration": 8,
    "start_time": "2024-11-08T18:12:28.953Z"
   },
   {
    "duration": 7,
    "start_time": "2024-11-08T18:12:28.964Z"
   },
   {
    "duration": 8,
    "start_time": "2024-11-08T18:12:28.973Z"
   },
   {
    "duration": 292,
    "start_time": "2024-11-08T18:12:28.983Z"
   },
   {
    "duration": 7,
    "start_time": "2024-11-08T18:12:29.277Z"
   },
   {
    "duration": 282,
    "start_time": "2024-11-08T18:12:29.286Z"
   },
   {
    "duration": 14,
    "start_time": "2024-11-08T18:12:29.570Z"
   },
   {
    "duration": 8,
    "start_time": "2024-11-08T18:12:29.587Z"
   },
   {
    "duration": 25,
    "start_time": "2024-11-08T18:12:29.596Z"
   },
   {
    "duration": 4,
    "start_time": "2024-11-08T18:12:29.622Z"
   },
   {
    "duration": 5,
    "start_time": "2024-11-08T18:12:29.628Z"
   },
   {
    "duration": 5,
    "start_time": "2024-11-08T18:12:29.634Z"
   },
   {
    "duration": 11,
    "start_time": "2024-11-08T18:13:22.712Z"
   },
   {
    "duration": 3,
    "start_time": "2024-11-08T18:13:29.850Z"
   }
  ],
  "kernelspec": {
   "display_name": "Python 3 (ipykernel)",
   "language": "python",
   "name": "python3"
  },
  "language_info": {
   "codemirror_mode": {
    "name": "ipython",
    "version": 3
   },
   "file_extension": ".py",
   "mimetype": "text/x-python",
   "name": "python",
   "nbconvert_exporter": "python",
   "pygments_lexer": "ipython3",
   "version": "3.9.19"
  },
  "toc": {
   "base_numbering": 1,
   "nav_menu": {},
   "number_sections": true,
   "sideBar": true,
   "skip_h1_title": true,
   "title_cell": "Table of Contents",
   "title_sidebar": "Contents",
   "toc_cell": false,
   "toc_position": {},
   "toc_section_display": true,
   "toc_window_display": false
  }
 },
 "nbformat": 4,
 "nbformat_minor": 2
}
